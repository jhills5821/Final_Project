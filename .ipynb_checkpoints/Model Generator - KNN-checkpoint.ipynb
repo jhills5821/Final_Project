{
 "cells": [
  {
   "cell_type": "code",
   "execution_count": 1,
   "metadata": {},
   "outputs": [
    {
     "data": {
      "text/plain": [
       "time                       float64\n",
       "ema(4)                     float64\n",
       "high low span              float64\n",
       "high above ema             float64\n",
       "close above ema            float64\n",
       "close relative to high     float64\n",
       "volume change              float64\n",
       "volume relative to span    float64\n",
       "to buy                     float64\n",
       "dtype: object"
      ]
     },
     "execution_count": 1,
     "metadata": {},
     "output_type": "execute_result"
    }
   ],
   "source": [
    "import matplotlib.pyplot as plt\n",
    "import pandas as pd\n",
    "\n",
    "#import data\n",
    "price_data = pd.read_csv('Price_Data_csv.csv')\n",
    "price_data.dtypes"
   ]
  },
  {
   "cell_type": "code",
   "execution_count": 12,
   "metadata": {},
   "outputs": [],
   "source": [
    "#split into x and y \n",
    "X = price_data.drop(\"to buy\", axis=1)\n",
    "y = price_data[\"to buy\"].values.reshape(-1,1)\n",
    "\n",
    "from sklearn.model_selection import train_test_split\n",
    "\n",
    "X_train, X_test, y_train, y_test = train_test_split(X, y, random_state=42)\n"
   ]
  },
  {
   "cell_type": "code",
   "execution_count": 13,
   "metadata": {},
   "outputs": [],
   "source": [
    "from sklearn.preprocessing import StandardScaler\n",
    "\n",
    "# Create a StandardScater model and fit it to the training data\n",
    "X_scaler = StandardScaler().fit(X_train)\n",
    "y_scaler = StandardScaler().fit(y_train)\n",
    "\n",
    "X_train_scaled = X_scaler.transform(X_train)\n",
    "X_test_scaled = X_scaler.transform(X_test)\n",
    "y_train_scaled = y_scaler.transform(y_train)\n",
    "y_test_scaled = y_scaler.transform(y_test)"
   ]
  },
  {
   "cell_type": "code",
   "execution_count": 14,
   "metadata": {},
   "outputs": [
    {
     "name": "stdout",
     "output_type": "stream",
     "text": [
      "k: 1, Train/Test Score: 1.000/-0.630\n",
      "k: 3, Train/Test Score: 0.430/-0.095\n",
      "k: 5, Train/Test Score: 0.312/-0.002\n",
      "k: 7, Train/Test Score: 0.269/0.042\n",
      "k: 9, Train/Test Score: 0.239/0.062\n",
      "k: 11, Train/Test Score: 0.221/0.074\n",
      "k: 13, Train/Test Score: 0.209/0.087\n",
      "k: 15, Train/Test Score: 0.197/0.094\n",
      "k: 17, Train/Test Score: 0.189/0.097\n",
      "k: 19, Train/Test Score: 0.183/0.102\n",
      "k: 21, Train/Test Score: 0.177/0.108\n",
      "k: 23, Train/Test Score: 0.174/0.109\n",
      "k: 25, Train/Test Score: 0.172/0.108\n",
      "k: 27, Train/Test Score: 0.169/0.110\n",
      "k: 29, Train/Test Score: 0.166/0.112\n",
      "k: 31, Train/Test Score: 0.164/0.113\n",
      "k: 33, Train/Test Score: 0.161/0.113\n",
      "k: 35, Train/Test Score: 0.159/0.115\n",
      "k: 37, Train/Test Score: 0.157/0.117\n",
      "k: 39, Train/Test Score: 0.155/0.116\n"
     ]
    },
    {
     "data": {
      "image/png": "[encoded data removed]",
      "text/plain": [
       "<Figure size 432x288 with 1 Axes>"
      ]
     },
     "metadata": {
      "needs_background": "light"
     },
     "output_type": "display_data"
    }
   ],
   "source": [
    "from sklearn.neighbors import KNeighborsRegressor\n",
    "# Loop through different k values to see which has the highest accuracy\n",
    "# Note: We only use odd numbers because we don't want any ties\n",
    "train_scores = []\n",
    "test_scores = []\n",
    "for k in range(1, 40, 2):\n",
    "    knn = KNeighborsRegressor(n_neighbors=k)\n",
    "    knn.fit(X_train_scaled, y_train)\n",
    "    train_score = knn.score(X_train_scaled, y_train)\n",
    "    test_score = knn.score(X_test_scaled, y_test)\n",
    "    train_scores.append(train_score)\n",
    "    test_scores.append(test_score)\n",
    "    print(f\"k: {k}, Train/Test Score: {train_score:.3f}/{test_score:.3f}\")\n",
    "    \n",
    "    \n",
    "plt.plot(range(1, 40, 2), train_scores, marker='o', label='training')\n",
    "plt.plot(range(1, 40, 2), test_scores, marker=\"x\", label='testing')\n",
    "plt.legend()\n",
    "plt.xlabel(\"k neighbors\")\n",
    "plt.ylabel(\"Testing accuracy Score\")\n",
    "plt.show()"
   ]
  },
  {
   "cell_type": "code",
   "execution_count": 16,
   "metadata": {},
   "outputs": [
    {
     "name": "stdout",
     "output_type": "stream",
     "text": [
      "k=19 Test Acc: 0.110\n"
     ]
    }
   ],
   "source": [
    "# Note that k: 19 provides the best accuracy where the classifier starts to stablize\n",
    "knn = KNeighborsRegressor(n_neighbors=27)\n",
    "knn.fit(X_train_scaled, y_train_scaled)\n",
    "print('k=19 Test Acc: %.3f' % knn.score(X_test_scaled, y_test_scaled))"
   ]
  },
  {
   "cell_type": "code",
   "execution_count": 17,
   "metadata": {},
   "outputs": [],
   "source": [
    "# Use our model to make predictions\n",
    "#predictions = knn.predict(X.iloc[6].values.reshape(1, -1))\n",
    "predictions = knn.predict(X_test_scaled)"
   ]
  },
  {
   "cell_type": "code",
   "execution_count": 19,
   "metadata": {},
   "outputs": [
    {
     "name": "stdout",
     "output_type": "stream",
     "text": [
      "Training R2 Score: 0.16885342938812495\n",
      "Testing R2 Score: 0.10952340663194227\n",
      "Testing Mean Squared Error (MSE): 0.8450457189377745\n"
     ]
    }
   ],
   "source": [
    "from sklearn.metrics import mean_squared_error, r2_score\n",
    "\n",
    "# Overall Score for the model\n",
    "\n",
    "training_r2 = knn.score(X_train_scaled, y_train_scaled)\n",
    "testing_r2 = knn.score(X_test_scaled, y_test_scaled) \n",
    "\n",
    "print(f\"Training R2 Score: {training_r2}\")\n",
    "print(f\"Testing R2 Score: {testing_r2}\")\n",
    "\n",
    "# Score the predictions with mse and r2\n",
    "testing_mse = mean_squared_error(y_test_scaled, predictions)\n",
    "\n",
    "print(f\"Testing Mean Squared Error (MSE): {testing_mse}\")"
   ]
  },
  {
   "cell_type": "code",
   "execution_count": null,
   "metadata": {},
   "outputs": [],
   "source": []
  }
 ],
 "metadata": {
  "kernelspec": {
   "display_name": "Python 3",
   "language": "python",
   "name": "python3"
  },
  "language_info": {
   "codemirror_mode": {
    "name": "ipython",
    "version": 3
   },
   "file_extension": ".py",
   "mimetype": "text/x-python",
   "name": "python",
   "nbconvert_exporter": "python",
   "pygments_lexer": "ipython3",
   "version": "3.7.0"
  }
 },
 "nbformat": 4,
 "nbformat_minor": 2
}
