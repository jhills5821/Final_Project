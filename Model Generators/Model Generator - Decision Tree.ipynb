{
 "cells": [
  {
   "cell_type": "code",
   "execution_count": 1,
   "metadata": {},
   "outputs": [
    {
     "data": {
      "text/plain": [
       "date                         int64\n",
       "ema(4)                     float64\n",
       "ema(10)                    float64\n",
       "macd                       float64\n",
       "macd 1st d                 float64\n",
       "high low span              float64\n",
       "high above ema             float64\n",
       "close above ema            float64\n",
       "close relative to high     float64\n",
       "volume change              float64\n",
       "volume relative to span    float64\n",
       "to buy                       int64\n",
       "dtype: object"
      ]
     },
     "execution_count": 1,
     "metadata": {},
     "output_type": "execute_result"
    }
   ],
   "source": [
    "import matplotlib.pyplot as plt\n",
    "import pandas as pd\n",
    "\n",
    "#import data\n",
    "price_data = pd.read_csv('Input Data/Day Data/day_data_csv.csv')\n",
    "price_data.dtypes"
   ]
  },
  {
   "cell_type": "code",
   "execution_count": 2,
   "metadata": {},
   "outputs": [],
   "source": [
    "#split into x and y \n",
    "X = price_data.drop(\"to buy\", axis=1)\n",
    "y = price_data[\"to buy\"]\n",
    "\n",
    "from sklearn.model_selection import train_test_split\n",
    "\n",
    "X_train, X_test, y_train, y_test = train_test_split(X, y, test_size=1/3, random_state=0)"
   ]
  },
  {
   "cell_type": "code",
   "execution_count": 3,
   "metadata": {},
   "outputs": [
    {
     "name": "stderr",
     "output_type": "stream",
     "text": [
      "C:\\Users\\jhills\\AppData\\Local\\Continuum\\anaconda3\\lib\\site-packages\\sklearn\\preprocessing\\data.py:625: DataConversionWarning: Data with input dtype int64, float64 were all converted to float64 by StandardScaler.\n",
      "  return self.partial_fit(X, y)\n",
      "C:\\Users\\jhills\\AppData\\Local\\Continuum\\anaconda3\\lib\\site-packages\\ipykernel_launcher.py:6: DataConversionWarning: Data with input dtype int64, float64 were all converted to float64 by StandardScaler.\n",
      "  \n",
      "C:\\Users\\jhills\\AppData\\Local\\Continuum\\anaconda3\\lib\\site-packages\\ipykernel_launcher.py:7: DataConversionWarning: Data with input dtype int64, float64 were all converted to float64 by StandardScaler.\n",
      "  import sys\n"
     ]
    }
   ],
   "source": [
    "from sklearn.preprocessing import StandardScaler\n",
    "\n",
    "# Create a StandardScater model and fit it to the training data\n",
    "X_scaler = StandardScaler().fit(X_train)\n",
    "\n",
    "X_train_scaled = X_scaler.transform(X_train)\n",
    "X_test_scaled = X_scaler.transform(X_test)\n"
   ]
  },
  {
   "cell_type": "code",
   "execution_count": 97,
   "metadata": {},
   "outputs": [
    {
     "name": "stdout",
     "output_type": "stream",
     "text": [
      "k: 1, Train/Test Score: 0.670/0.094\n",
      "k: 11, Train/Test Score: 0.992/0.160\n",
      "k: 21, Train/Test Score: 0.999/0.166\n",
      "k: 31, Train/Test Score: 1.000/0.177\n",
      "k: 41, Train/Test Score: 1.000/0.183\n",
      "k: 51, Train/Test Score: 1.000/0.185\n",
      "k: 61, Train/Test Score: 1.000/0.191\n",
      "k: 71, Train/Test Score: 1.000/0.185\n",
      "k: 81, Train/Test Score: 1.000/0.194\n",
      "k: 91, Train/Test Score: 1.000/0.188\n"
     ]
    },
    {
     "data": {
      "image/png": "[encoded data removed]",
      "text/plain": [
       "<Figure size 432x288 with 1 Axes>"
      ]
     },
     "metadata": {
      "needs_background": "light"
     },
     "output_type": "display_data"
    }
   ],
   "source": [
    "from sklearn.ensemble import RandomForestClassifier\n",
    "# Loop through different k values to see which has the highest accuracy\n",
    "train_scores = []\n",
    "test_scores = []\n",
    "for k in range(1, 100, 10):\n",
    "    knn = RandomForestClassifier(n_estimators=k)\n",
    "    knn.fit(X_train_scaled, y_train)\n",
    "    train_score = knn.score(X_train_scaled, y_train)\n",
    "    test_score = knn.score(X_test_scaled, y_test)\n",
    "    train_scores.append(train_score)\n",
    "    test_scores.append(test_score)\n",
    "    print(f\"k: {k}, Train/Test Score: {train_score:.3f}/{test_score:.3f}\")\n",
    "    \n",
    "    \n",
    "plt.plot(range(1, 100, 10), train_scores, marker='o', label='training')\n",
    "plt.plot(range(1, 100, 10), test_scores, marker=\"x\", label='testing')\n",
    "plt.legend()\n",
    "plt.xlabel(\"k neighbors\")\n",
    "plt.ylabel(\"Testing accuracy Score\")\n",
    "plt.show()"
   ]
  },
  {
   "cell_type": "code",
   "execution_count": 246,
   "metadata": {},
   "outputs": [
    {
     "name": "stdout",
     "output_type": "stream",
     "text": [
      "Training Accuracy Score: 0.6973540856031128\n",
      "Testing Accuracy Score: 0.6731517509727627\n"
     ]
    }
   ],
   "source": [
    "from sklearn.tree import DecisionTreeClassifier\n",
    "\n",
    "dtc = DecisionTreeClassifier(class_weight=\"balanced\", max_leaf_nodes = 24, max_depth=5,max_features=8)\n",
    "dtc = dtc.fit(X_train_scaled, y_train)\n",
    "\n",
    "training_accur = dtc.score(X_train_scaled, y_train)\n",
    "testing_accur = dtc.score(X_test_scaled, y_test) \n",
    "\n",
    "print(f\"Training Accuracy Score: {training_accur}\")\n",
    "print(f\"Testing Accuracy Score: {testing_accur}\")\n"
   ]
  },
  {
   "cell_type": "code",
   "execution_count": 247,
   "metadata": {},
   "outputs": [
    {
     "data": {
      "text/plain": [
       "[(0.7006457143080235, 'high above ema'),\n",
       " (0.15046395550263095, 'ema (4)'),\n",
       " (0.055820414867644365, 'volume relative to span'),\n",
       " (0.0347794553804832, 'close relative to high'),\n",
       " (0.026074641155021228, 'volume change'),\n",
       " (0.02072260448852098, 'macd 1st d'),\n",
       " (0.0, 'macd'),\n",
       " (0.0, 'high low span'),\n",
       " (0.0, 'ema(10)'),\n",
       " (0.0, 'close above ema')]"
      ]
     },
     "execution_count": 247,
     "metadata": {},
     "output_type": "execute_result"
    }
   ],
   "source": [
    "importances = dtc.feature_importances_\n",
    "feature_names = ['ema (4)','ema(10)','macd','macd 1st d','high low span','high above ema','close above ema','close relative to high','volume change','volume relative to span']\n",
    "\n",
    "sorted(zip(dtc.feature_importances_, feature_names), reverse=True)"
   ]
  },
  {
   "cell_type": "code",
   "execution_count": 248,
   "metadata": {},
   "outputs": [
    {
     "name": "stdout",
     "output_type": "stream",
     "text": [
      "      0     1\n",
      "0  4107  1976\n",
      "1   124   218\n",
      "      0     1\n",
      "0  8456  3742\n",
      "1   147   505\n",
      "              precision    recall  f1-score   support\n",
      "\n",
      "           0       0.97      0.68      0.80      6083\n",
      "           1       0.10      0.64      0.17       342\n",
      "\n",
      "   micro avg       0.67      0.67      0.67      6425\n",
      "   macro avg       0.54      0.66      0.48      6425\n",
      "weighted avg       0.92      0.67      0.76      6425\n",
      "\n",
      "              precision    recall  f1-score   support\n",
      "\n",
      "           0       0.98      0.69      0.81     12198\n",
      "           1       0.12      0.77      0.21       652\n",
      "\n",
      "   micro avg       0.70      0.70      0.70     12850\n",
      "   macro avg       0.55      0.73      0.51     12850\n",
      "weighted avg       0.94      0.70      0.78     12850\n",
      "\n"
     ]
    }
   ],
   "source": [
    "# Use our model to make predictions and generate confusion matrix\n",
    "y_train_predict = dtc.predict(X_train_scaled)\n",
    "y_test_predict = dtc.predict(X_test_scaled)\n",
    "\n",
    "#price_data[\"Prediction\"]=predict_all\n",
    "#price_data.to_csv('predicted_price_data.csv')\n",
    "\n",
    "from sklearn.metrics import confusion_matrix, classification_report\n",
    "\n",
    "test_cm = pd.DataFrame(confusion_matrix(y_test, y_test_predict))\n",
    "train_cm = pd.DataFrame(confusion_matrix(y_train, y_train_predict))\n",
    "pd.options.display.max_rows = 50\n",
    "pd.options.display.max_columns = 50\n",
    "print(test_cm.head(50))\n",
    "print(train_cm.head(50))\n",
    "\n",
    "test_cr = classification_report(y_test, y_test_predict)\n",
    "train_cr = classification_report(y_train, y_train_predict)\n",
    "print(test_cr)\n",
    "print(train_cr)"
   ]
  },
  {
   "cell_type": "code",
   "execution_count": 245,
   "metadata": {},
   "outputs": [
    {
     "name": "stdout",
     "output_type": "stream",
     "text": [
      "Training Accuracy: 1.0\n",
      "Testing Accuracy: 0.9073929961089494\n",
      "Training Mean Squared Error (MSE): 0.0\n",
      "Testing Mean Squared Error (MSE): 0.09260700389105059\n"
     ]
    }
   ],
   "source": [
    "#Summary of model performance\n",
    "from sklearn.metrics import mean_squared_error, accuracy_score\n",
    "\n",
    "training_score = accuracy_score(y_train, y_train_predict)\n",
    "testing_score = accuracy_score(y_test, y_test_predict) \n",
    "\n",
    "print(f\"Training Accuracy: {training_score}\")\n",
    "print(f\"Testing Accuracy: {testing_score}\")\n",
    "\n",
    "training_mse = mean_squared_error(y_train, y_train_predict)\n",
    "testing_mse = mean_squared_error(y_test, y_test_predict)\n",
    "\n",
    "print(f\"Training Mean Squared Error (MSE): {training_mse}\")\n",
    "print(f\"Testing Mean Squared Error (MSE): {testing_mse}\")"
   ]
  },
  {
   "cell_type": "code",
   "execution_count": null,
   "metadata": {},
   "outputs": [],
   "source": []
  }
 ],
 "metadata": {
  "kernelspec": {
   "display_name": "Python 3",
   "language": "python",
   "name": "python3"
  },
  "language_info": {
   "codemirror_mode": {
    "name": "ipython",
    "version": 3
   },
   "file_extension": ".py",
   "mimetype": "text/x-python",
   "name": "python",
   "nbconvert_exporter": "python",
   "pygments_lexer": "ipython3",
   "version": "3.7.1"
  }
 },
 "nbformat": 4,
 "nbformat_minor": 2
}
