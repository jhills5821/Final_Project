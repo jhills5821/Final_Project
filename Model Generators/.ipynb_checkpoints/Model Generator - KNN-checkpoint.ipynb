{
 "cells": [
  {
   "cell_type": "code",
   "execution_count": 113,
   "metadata": {},
   "outputs": [
    {
     "data": {
      "text/plain": [
       "ema(4)                     float64\n",
       "ema(10)                    float64\n",
       "macd                       float64\n",
       "macd 1st d                 float64\n",
       "high low span              float64\n",
       "high above ema             float64\n",
       "close above ema            float64\n",
       "close relative to high     float64\n",
       "volume change              float64\n",
       "volume relative to span    float64\n",
       "3 days ago                   int64\n",
       "2 days ago                   int64\n",
       "1 day ago                    int64\n",
       "close relative to low      float64\n",
       "open less than close         int64\n",
       "to buy                       int64\n",
       "dtype: object"
      ]
     },
     "execution_count": 113,
     "metadata": {},
     "output_type": "execute_result"
    }
   ],
   "source": [
    "import matplotlib.pyplot as plt\n",
    "import pandas as pd\n",
    "\n",
    "#import data\n",
    "price_data = pd.read_csv('Input Data/Day Data/day_data_csv.csv')\n",
    "price_data.dtypes"
   ]
  },
  {
   "cell_type": "code",
   "execution_count": 114,
   "metadata": {},
   "outputs": [],
   "source": [
    "#split into x and y \n",
    "X = price_data.drop(\"to buy\", axis=1)\n",
    "y = price_data[\"to buy\"]\n",
    "\n",
    "from sklearn.model_selection import train_test_split\n",
    "\n",
    "X_train, X_test, y_train, y_test = train_test_split(X, y, test_size=1/3, random_state=0)\n"
   ]
  },
  {
   "cell_type": "code",
   "execution_count": 115,
   "metadata": {},
   "outputs": [
    {
     "name": "stderr",
     "output_type": "stream",
     "text": [
      "C:\\anaconda\\Anaconda3\\lib\\site-packages\\sklearn\\preprocessing\\data.py:625: DataConversionWarning: Data with input dtype int64, float64 were all converted to float64 by StandardScaler.\n",
      "  return self.partial_fit(X, y)\n",
      "C:\\anaconda\\Anaconda3\\lib\\site-packages\\ipykernel_launcher.py:6: DataConversionWarning: Data with input dtype int64, float64 were all converted to float64 by StandardScaler.\n",
      "  \n",
      "C:\\anaconda\\Anaconda3\\lib\\site-packages\\ipykernel_launcher.py:7: DataConversionWarning: Data with input dtype int64, float64 were all converted to float64 by StandardScaler.\n",
      "  import sys\n"
     ]
    }
   ],
   "source": [
    "from sklearn.preprocessing import StandardScaler\n",
    "\n",
    "# Create a StandardScater model and fit it to the training data\n",
    "X_scaler = StandardScaler().fit(X_train)\n",
    "\n",
    "X_train_scaled = X_scaler.transform(X_train)\n",
    "X_test_scaled = X_scaler.transform(X_test)\n"
   ]
  },
  {
   "cell_type": "code",
   "execution_count": 116,
   "metadata": {},
   "outputs": [
    {
     "name": "stdout",
     "output_type": "stream",
     "text": [
      "k: 1, Train/Test Score: 1.000/0.895\n",
      "k: 3, Train/Test Score: 0.942/0.953\n",
      "k: 5, Train/Test Score: 0.928/0.953\n",
      "k: 7, Train/Test Score: 0.926/0.957\n",
      "k: 9, Train/Test Score: 0.926/0.957\n",
      "k: 11, Train/Test Score: 0.926/0.961\n",
      "k: 13, Train/Test Score: 0.926/0.961\n",
      "k: 15, Train/Test Score: 0.926/0.961\n",
      "k: 17, Train/Test Score: 0.926/0.961\n",
      "k: 19, Train/Test Score: 0.926/0.961\n",
      "k: 21, Train/Test Score: 0.926/0.961\n",
      "k: 23, Train/Test Score: 0.926/0.961\n",
      "k: 25, Train/Test Score: 0.926/0.961\n",
      "k: 27, Train/Test Score: 0.926/0.961\n",
      "k: 29, Train/Test Score: 0.926/0.961\n",
      "k: 31, Train/Test Score: 0.926/0.961\n",
      "k: 33, Train/Test Score: 0.926/0.961\n",
      "k: 35, Train/Test Score: 0.926/0.961\n",
      "k: 37, Train/Test Score: 0.926/0.961\n",
      "k: 39, Train/Test Score: 0.926/0.961\n"
     ]
    },
    {
     "data": {
      "image/png": "[encoded data removed]",
      "text/plain": [
       "<Figure size 432x288 with 1 Axes>"
      ]
     },
     "metadata": {
      "needs_background": "light"
     },
     "output_type": "display_data"
    }
   ],
   "source": [
    "from sklearn.neighbors import KNeighborsClassifier\n",
    "# Loop through different k values to see which has the highest accuracy\n",
    "train_scores = []\n",
    "test_scores = []\n",
    "for k in range(1, 40, 2):\n",
    "    knn = KNeighborsClassifier(n_neighbors=k)\n",
    "    knn.fit(X_train_scaled, y_train)\n",
    "    train_score = knn.score(X_train_scaled, y_train)\n",
    "    test_score = knn.score(X_test_scaled, y_test)\n",
    "    train_scores.append(train_score)\n",
    "    test_scores.append(test_score)\n",
    "    print(f\"k: {k}, Train/Test Score: {train_score:.3f}/{test_score:.3f}\")\n",
    "    \n",
    "    \n",
    "plt.plot(range(1, 40, 2), train_scores, marker='o', label='training')\n",
    "plt.plot(range(1, 40, 2), test_scores, marker=\"x\", label='testing')\n",
    "plt.legend()\n",
    "plt.xlabel(\"k neighbors\")\n",
    "plt.ylabel(\"Testing accuracy Score\")\n",
    "plt.show()"
   ]
  },
  {
   "cell_type": "code",
   "execution_count": 117,
   "metadata": {},
   "outputs": [
    {
     "name": "stdout",
     "output_type": "stream",
     "text": [
      "Training Accuracy Score: 0.9260700389105059\n",
      "Testing Accuracy Score: 0.9610894941634242\n"
     ]
    }
   ],
   "source": [
    "knn = KNeighborsClassifier(n_neighbors=13)\n",
    "knn.fit(X_train_scaled, y_train)\n",
    "\n",
    "training_accur = knn.score(X_train_scaled, y_train)\n",
    "testing_accur = knn.score(X_test_scaled, y_test) \n",
    "\n",
    "print(f\"Training Accuracy Score: {training_accur}\")\n",
    "print(f\"Testing Accuracy Score: {testing_accur}\")"
   ]
  },
  {
   "cell_type": "code",
   "execution_count": 118,
   "metadata": {},
   "outputs": [
    {
     "name": "stdout",
     "output_type": "stream",
     "text": [
      "[[247   0]\n",
      " [ 10   0]]\n",
      "[[476   0]\n",
      " [ 38   0]]\n",
      "              precision    recall  f1-score   support\n",
      "\n",
      "           0       0.96      1.00      0.98       247\n",
      "           1       0.00      0.00      0.00        10\n",
      "\n",
      "   micro avg       0.96      0.96      0.96       257\n",
      "   macro avg       0.48      0.50      0.49       257\n",
      "weighted avg       0.92      0.96      0.94       257\n",
      "\n",
      "              precision    recall  f1-score   support\n",
      "\n",
      "           0       0.93      1.00      0.96       476\n",
      "           1       0.00      0.00      0.00        38\n",
      "\n",
      "   micro avg       0.93      0.93      0.93       514\n",
      "   macro avg       0.46      0.50      0.48       514\n",
      "weighted avg       0.86      0.93      0.89       514\n",
      "\n"
     ]
    },
    {
     "name": "stderr",
     "output_type": "stream",
     "text": [
      "C:\\anaconda\\Anaconda3\\lib\\site-packages\\sklearn\\metrics\\classification.py:1143: UndefinedMetricWarning: Precision and F-score are ill-defined and being set to 0.0 in labels with no predicted samples.\n",
      "  'precision', 'predicted', average, warn_for)\n"
     ]
    }
   ],
   "source": [
    "# Use our model to make predictions and generate confusion matrix\n",
    "y_test_predict = knn.predict(X_test_scaled)\n",
    "y_train_predict = knn.predict(X_train_scaled)\n",
    "\n",
    "#price_data[\"Prediction\"]=predict_all\n",
    "#price_data.to_csv('predicted_price_data.csv')\n",
    "\n",
    "from sklearn.metrics import confusion_matrix, classification_report\n",
    "\n",
    "test_cm = confusion_matrix(y_test, y_test_predict)\n",
    "train_cm = confusion_matrix(y_train, y_train_predict)\n",
    "print(test_cm)\n",
    "print(train_cm)\n",
    "\n",
    "test_cr = classification_report(y_test, y_test_predict)\n",
    "train_cr = classification_report(y_train, y_train_predict)\n",
    "print(test_cr)\n",
    "print(train_cr)"
   ]
  },
  {
   "cell_type": "code",
   "execution_count": 112,
   "metadata": {},
   "outputs": [
    {
     "name": "stdout",
     "output_type": "stream",
     "text": [
      "Training Accuracy: 0.6610446137105549\n",
      "Testing Accuracy: 0.6401927261423687\n",
      "Training Mean Squared Error (MSE): 0.33895538628944505\n",
      "Testing Mean Squared Error (MSE): 0.35980727385763134\n"
     ]
    }
   ],
   "source": [
    "#Summary of model performance\n",
    "from sklearn.metrics import mean_squared_error, accuracy_score\n",
    "\n",
    "training_score = accuracy_score(y_train, y_train_predict)\n",
    "testing_score = accuracy_score(y_test, y_test_predict) \n",
    "\n",
    "print(f\"Training Accuracy: {training_score}\")\n",
    "print(f\"Testing Accuracy: {testing_score}\")\n",
    "\n",
    "training_mse = mean_squared_error(y_train, y_train_predict)\n",
    "testing_mse = mean_squared_error(y_test, y_test_predict)\n",
    "\n",
    "print(f\"Training Mean Squared Error (MSE): {training_mse}\")\n",
    "print(f\"Testing Mean Squared Error (MSE): {testing_mse}\")"
   ]
  },
  {
   "cell_type": "code",
   "execution_count": null,
   "metadata": {},
   "outputs": [],
   "source": []
  }
 ],
 "metadata": {
  "kernelspec": {
   "display_name": "Python 3",
   "language": "python",
   "name": "python3"
  },
  "language_info": {
   "codemirror_mode": {
    "name": "ipython",
    "version": 3
   },
   "file_extension": ".py",
   "mimetype": "text/x-python",
   "name": "python",
   "nbconvert_exporter": "python",
   "pygments_lexer": "ipython3",
   "version": "3.7.1"
  }
 },
 "nbformat": 4,
 "nbformat_minor": 2
}
