{
 "cells": [
  {
   "cell_type": "code",
   "execution_count": 18,
   "metadata": {},
   "outputs": [
    {
     "data": {
      "text/plain": [
       "high low span           float64\n",
       "volume change           float64\n",
       "open less than close      int64\n",
       "to buy                    int64\n",
       "dtype: object"
      ]
     },
     "execution_count": 18,
     "metadata": {},
     "output_type": "execute_result"
    }
   ],
   "source": [
    "import matplotlib.pyplot as plt\n",
    "import pandas as pd\n",
    "\n",
    "#import data\n",
    "price_data = pd.read_csv('Input Data/Day Data/day_data_csv.csv')\n",
    "price_data.dtypes"
   ]
  },
  {
   "cell_type": "code",
   "execution_count": 19,
   "metadata": {},
   "outputs": [],
   "source": [
    "#split into x and y \n",
    "X = price_data.drop(\"to buy\", axis=1)\n",
    "y = price_data[\"to buy\"]\n",
    "\n",
    "from sklearn.model_selection import train_test_split\n",
    "\n",
    "X_train, X_test, y_train, y_test = train_test_split(X, y, test_size=1/3, random_state=0)"
   ]
  },
  {
   "cell_type": "code",
   "execution_count": 20,
   "metadata": {},
   "outputs": [
    {
     "name": "stderr",
     "output_type": "stream",
     "text": [
      "C:\\anaconda\\Anaconda3\\lib\\site-packages\\sklearn\\preprocessing\\data.py:625: DataConversionWarning: Data with input dtype int64, float64 were all converted to float64 by StandardScaler.\n",
      "  return self.partial_fit(X, y)\n",
      "C:\\anaconda\\Anaconda3\\lib\\site-packages\\ipykernel_launcher.py:6: DataConversionWarning: Data with input dtype int64, float64 were all converted to float64 by StandardScaler.\n",
      "  \n",
      "C:\\anaconda\\Anaconda3\\lib\\site-packages\\ipykernel_launcher.py:7: DataConversionWarning: Data with input dtype int64, float64 were all converted to float64 by StandardScaler.\n",
      "  import sys\n"
     ]
    }
   ],
   "source": [
    "from sklearn.preprocessing import StandardScaler\n",
    "\n",
    "# Create a StandardScater model and fit it to the training data\n",
    "X_scaler = StandardScaler().fit(X_train)\n",
    "\n",
    "X_train_scaled = X_scaler.transform(X_train)\n",
    "X_test_scaled = X_scaler.transform(X_test)\n"
   ]
  },
  {
   "cell_type": "code",
   "execution_count": 21,
   "metadata": {},
   "outputs": [],
   "source": [
    "from sklearn.metrics import make_scorer, recall_score, precision_score\n",
    "\n",
    "pres = make_scorer(precision_score, average='binary')\n",
    "rec = make_scorer(recall_score,average='binary')"
   ]
  },
  {
   "cell_type": "code",
   "execution_count": 22,
   "metadata": {},
   "outputs": [
    {
     "name": "stdout",
     "output_type": "stream",
     "text": [
      "{'max_depth': 1, 'max_leaf_nodes': 5}\n",
      "0.17592549732131943\n",
      "{'max_depth': 10, 'max_leaf_nodes': 20}\n",
      "0.7499297676309271\n"
     ]
    }
   ],
   "source": [
    "from sklearn.tree import DecisionTreeClassifier\n",
    "\n",
    "dtc = DecisionTreeClassifier(class_weight=\"balanced\")\n",
    "\n",
    "from sklearn.model_selection import GridSearchCV\n",
    "param_grid = {'max_depth': [1, 5, 10, 50, 100],\n",
    "              'max_leaf_nodes': [5, 10, 20, 50, 100, 200, 500]}\n",
    "\n",
    "pres_grid = GridSearchCV(dtc, param_grid,scoring=pres, cv=3)\n",
    "pres_grid.fit(X_train_scaled, y_train)\n",
    "\n",
    "print(pres_grid.best_params_)\n",
    "print(pres_grid.best_score_)\n",
    "\n",
    "rec_grid = GridSearchCV(dtc, param_grid, scoring=rec, cv=3)\n",
    "rec_grid.fit(X_train_scaled, y_train)\n",
    "\n",
    "print(rec_grid.best_params_)\n",
    "print(rec_grid.best_score_)"
   ]
  },
  {
   "cell_type": "code",
   "execution_count": 23,
   "metadata": {},
   "outputs": [
    {
     "name": "stdout",
     "output_type": "stream",
     "text": [
      "Training Accuracy Score: 0.7157976653696498\n",
      "Testing Accuracy Score: 0.7145525291828794\n"
     ]
    }
   ],
   "source": [
    "from sklearn.tree import DecisionTreeClassifier\n",
    "\n",
    "dtc = DecisionTreeClassifier(class_weight=\"balanced\", max_leaf_nodes = 20, max_depth = 10)\n",
    "dtc = dtc.fit(X_train_scaled, y_train)\n",
    "\n",
    "training_accur = dtc.score(X_train_scaled, y_train)\n",
    "testing_accur = dtc.score(X_test_scaled, y_test) \n",
    "\n",
    "print(f\"Training Accuracy Score: {training_accur}\")\n",
    "print(f\"Testing Accuracy Score: {testing_accur}\")\n"
   ]
  },
  {
   "cell_type": "code",
   "execution_count": 26,
   "metadata": {},
   "outputs": [
    {
     "data": {
      "text/plain": [
       "[(0.6167323630343494, 'high low span'),\n",
       " (0.3113238987168342, 'open less than close'),\n",
       " (0.07194373824881636, 'volume change')]"
      ]
     },
     "execution_count": 26,
     "metadata": {},
     "output_type": "execute_result"
    }
   ],
   "source": [
    "importances = dtc.feature_importances_\n",
    "feature_names = ['high low span','volume change','open less than close']\n",
    "\n",
    "sorted(zip(dtc.feature_importances_, feature_names), reverse=True)"
   ]
  },
  {
   "cell_type": "code",
   "execution_count": 27,
   "metadata": {},
   "outputs": [
    {
     "name": "stdout",
     "output_type": "stream",
     "text": [
      "[[4342 1741]\n",
      " [  93  249]]\n",
      "[[8680 3518]\n",
      " [ 134  518]]\n",
      "              precision    recall  f1-score   support\n",
      "\n",
      "           0       0.98      0.71      0.83      6083\n",
      "           1       0.13      0.73      0.21       342\n",
      "\n",
      "   micro avg       0.71      0.71      0.71      6425\n",
      "   macro avg       0.55      0.72      0.52      6425\n",
      "weighted avg       0.93      0.71      0.79      6425\n",
      "\n",
      "              precision    recall  f1-score   support\n",
      "\n",
      "           0       0.98      0.71      0.83     12198\n",
      "           1       0.13      0.79      0.22       652\n",
      "\n",
      "   micro avg       0.72      0.72      0.72     12850\n",
      "   macro avg       0.56      0.75      0.52     12850\n",
      "weighted avg       0.94      0.72      0.80     12850\n",
      "\n"
     ]
    }
   ],
   "source": [
    "# Use our model to make predictions and generate confusion matrix\n",
    "y_train_predict = dtc.predict(X_train_scaled)\n",
    "y_test_predict = dtc.predict(X_test_scaled)\n",
    "\n",
    "#price_data[\"Prediction\"]=predict_all\n",
    "#price_data.to_csv('predicted_price_data.csv')\n",
    "\n",
    "from sklearn.metrics import confusion_matrix, classification_report\n",
    "\n",
    "test_cm = confusion_matrix(y_test, y_test_predict)\n",
    "train_cm = confusion_matrix(y_train, y_train_predict)\n",
    "print(test_cm)\n",
    "print(train_cm)\n",
    "\n",
    "test_cr = classification_report(y_test, y_test_predict)\n",
    "train_cr = classification_report(y_train, y_train_predict)\n",
    "print(test_cr)\n",
    "print(train_cr)"
   ]
  },
  {
   "cell_type": "code",
   "execution_count": 564,
   "metadata": {},
   "outputs": [
    {
     "name": "stdout",
     "output_type": "stream",
     "text": [
      "Training Accuracy: 0.7539950829748002\n",
      "Testing Accuracy: 0.7464658881376767\n",
      "Training Mean Squared Error (MSE): 0.24600491702519975\n",
      "Testing Mean Squared Error (MSE): 0.2535341118623233\n"
     ]
    }
   ],
   "source": [
    "#Summary of model performance\n",
    "from sklearn.metrics import mean_squared_error, accuracy_score\n",
    "\n",
    "training_score = accuracy_score(y_train, y_train_predict)\n",
    "testing_score = accuracy_score(y_test, y_test_predict) \n",
    "\n",
    "print(f\"Training Accuracy: {training_score}\")\n",
    "print(f\"Testing Accuracy: {testing_score}\")\n",
    "\n",
    "training_mse = mean_squared_error(y_train, y_train_predict)\n",
    "testing_mse = mean_squared_error(y_test, y_test_predict)\n",
    "\n",
    "print(f\"Training Mean Squared Error (MSE): {training_mse}\")\n",
    "print(f\"Testing Mean Squared Error (MSE): {testing_mse}\")"
   ]
  },
  {
   "cell_type": "code",
   "execution_count": 565,
   "metadata": {},
   "outputs": [],
   "source": [
    "import pickle\n",
    "pickle.dump(X_scaler, open('Output Models/decision model scaler.pkl','wb'))\n",
    "pickle.dump(dtc, open('Output Models/decision model.pkl','wb'))"
   ]
  },
  {
   "cell_type": "code",
   "execution_count": null,
   "metadata": {},
   "outputs": [],
   "source": []
  }
 ],
 "metadata": {
  "kernelspec": {
   "display_name": "Python 3",
   "language": "python",
   "name": "python3"
  },
  "language_info": {
   "codemirror_mode": {
    "name": "ipython",
    "version": 3
   },
   "file_extension": ".py",
   "mimetype": "text/x-python",
   "name": "python",
   "nbconvert_exporter": "python",
   "pygments_lexer": "ipython3",
   "version": "3.7.1"
  }
 },
 "nbformat": 4,
 "nbformat_minor": 2
}
