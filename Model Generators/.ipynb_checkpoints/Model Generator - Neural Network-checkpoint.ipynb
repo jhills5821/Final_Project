{
 "cells": [
  {
   "cell_type": "code",
   "execution_count": 2,
   "metadata": {},
   "outputs": [
    {
     "name": "stdout",
     "output_type": "stream",
     "text": [
      "Requirement already satisfied: numpy in c:\\anaconda\\anaconda3\\lib\\site-packages (1.16.4)\n"
     ]
    }
   ],
   "source": [
    "!pip install numpy"
   ]
  },
  {
   "cell_type": "code",
   "execution_count": 135,
   "metadata": {},
   "outputs": [
    {
     "data": {
      "text/plain": [
       "ema(4)                     float64\n",
       "ema(10)                    float64\n",
       "macd                       float64\n",
       "macd 1st d                 float64\n",
       "high low span              float64\n",
       "high above ema             float64\n",
       "close above ema            float64\n",
       "close relative to high     float64\n",
       "volume change              float64\n",
       "volume relative to span    float64\n",
       "3 days ago                   int64\n",
       "2 days ago                   int64\n",
       "1 day ago                    int64\n",
       "close relative to low      float64\n",
       "open less than close         int64\n",
       "to buy                       int64\n",
       "dtype: object"
      ]
     },
     "execution_count": 135,
     "metadata": {},
     "output_type": "execute_result"
    }
   ],
   "source": [
    "import matplotlib.pyplot as plt\n",
    "import pandas as pd\n",
    "\n",
    "\n",
    "#import data\n",
    "price_data = pd.read_csv('Input Data/Day Data/day_data_csv.csv')\n",
    "price_data.dtypes"
   ]
  },
  {
   "cell_type": "code",
   "execution_count": 136,
   "metadata": {},
   "outputs": [],
   "source": [
    "#split into x and y \n",
    "X = price_data.drop(\"to buy\", axis=1)\n",
    "y = price_data[\"to buy\"]\n",
    "\n",
    "from sklearn.model_selection import train_test_split\n",
    "\n",
    "X_train, X_test, y_train, y_test = train_test_split(X,y, test_size=1/3, random_state=0)"
   ]
  },
  {
   "cell_type": "code",
   "execution_count": 137,
   "metadata": {},
   "outputs": [
    {
     "name": "stderr",
     "output_type": "stream",
     "text": [
      "C:\\anaconda\\Anaconda3\\lib\\site-packages\\sklearn\\preprocessing\\data.py:625: DataConversionWarning: Data with input dtype int64, float64 were all converted to float64 by StandardScaler.\n",
      "  return self.partial_fit(X, y)\n",
      "C:\\anaconda\\Anaconda3\\lib\\site-packages\\ipykernel_launcher.py:6: DataConversionWarning: Data with input dtype int64, float64 were all converted to float64 by StandardScaler.\n",
      "  \n",
      "C:\\anaconda\\Anaconda3\\lib\\site-packages\\ipykernel_launcher.py:7: DataConversionWarning: Data with input dtype int64, float64 were all converted to float64 by StandardScaler.\n",
      "  import sys\n"
     ]
    }
   ],
   "source": [
    "from sklearn.preprocessing import StandardScaler\n",
    "\n",
    "# Create a StandardScater model and fit it to the training data\n",
    "X_scaler = StandardScaler().fit(X_train)\n",
    "\n",
    "X_train_scaled = X_scaler.transform(X_train)\n",
    "X_test_scaled = X_scaler.transform(X_test)"
   ]
  },
  {
   "cell_type": "code",
   "execution_count": 138,
   "metadata": {},
   "outputs": [],
   "source": [
    "from keras.utils import to_categorical\n",
    "\n",
    "# One-hot encoding\n",
    "y_train_categorical = to_categorical(y_train)\n",
    "y_test_categorical = to_categorical(y_test)"
   ]
  },
  {
   "cell_type": "code",
   "execution_count": 142,
   "metadata": {},
   "outputs": [
    {
     "name": "stdout",
     "output_type": "stream",
     "text": [
      "_________________________________________________________________\n",
      "Layer (type)                 Output Shape              Param #   \n",
      "=================================================================\n",
      "dense_73 (Dense)             (None, 50)                800       \n",
      "_________________________________________________________________\n",
      "dense_74 (Dense)             (None, 2)                 102       \n",
      "=================================================================\n",
      "Total params: 902\n",
      "Trainable params: 902\n",
      "Non-trainable params: 0\n",
      "_________________________________________________________________\n"
     ]
    }
   ],
   "source": [
    "from keras.models import Sequential\n",
    "from keras.optimizers import SGD\n",
    "\n",
    "model = Sequential()\n",
    "\n",
    "from keras.layers import Dense\n",
    "number_inputs = 15\n",
    "number_hidden_nodes = 50\n",
    "model.add(Dense(units=number_hidden_nodes,\n",
    "                activation='relu', input_dim=number_inputs))\n",
    "\n",
    "number_classes = 2\n",
    "\n",
    "model.add(Dense(units=number_classes, activation='tanh'))\n",
    "\n",
    "model.summary()\n",
    "opt = SGD(lr=.01, momentum=.9)\n",
    "\n",
    "model.compile(optimizer=opt,\n",
    "              loss='squared_hinge',\n",
    "              metrics=['accuracy'])"
   ]
  },
  {
   "cell_type": "code",
   "execution_count": 143,
   "metadata": {},
   "outputs": [
    {
     "name": "stdout",
     "output_type": "stream",
     "text": [
      "Epoch 1/100\n",
      " - 1s - loss: 0.6749 - acc: 0.8230\n",
      "Epoch 2/100\n",
      " - 0s - loss: 0.5120 - acc: 0.9261\n",
      "Epoch 3/100\n",
      " - 0s - loss: 0.5050 - acc: 0.9261\n",
      "Epoch 4/100\n",
      " - 0s - loss: 0.5033 - acc: 0.9222\n",
      "Epoch 5/100\n",
      " - 0s - loss: 0.5026 - acc: 0.9222\n",
      "Epoch 6/100\n",
      " - 0s - loss: 0.5023 - acc: 0.9222\n",
      "Epoch 7/100\n",
      " - 0s - loss: 0.5020 - acc: 0.9222\n",
      "Epoch 8/100\n",
      " - 0s - loss: 0.5017 - acc: 0.9222\n",
      "Epoch 9/100\n",
      " - 0s - loss: 0.5015 - acc: 0.9202\n",
      "Epoch 10/100\n",
      " - 0s - loss: 0.5014 - acc: 0.9202\n",
      "Epoch 11/100\n",
      " - 0s - loss: 0.5013 - acc: 0.9202\n",
      "Epoch 12/100\n",
      " - 0s - loss: 0.5012 - acc: 0.9202\n",
      "Epoch 13/100\n",
      " - 0s - loss: 0.5011 - acc: 0.9202\n",
      "Epoch 14/100\n",
      " - 0s - loss: 0.5010 - acc: 0.9183\n",
      "Epoch 15/100\n",
      " - 0s - loss: 0.5010 - acc: 0.9163\n",
      "Epoch 16/100\n",
      " - 0s - loss: 0.5009 - acc: 0.9163\n",
      "Epoch 17/100\n",
      " - 0s - loss: 0.5009 - acc: 0.9163\n",
      "Epoch 18/100\n",
      " - 0s - loss: 0.5008 - acc: 0.9183\n",
      "Epoch 19/100\n",
      " - 0s - loss: 0.5008 - acc: 0.9183\n",
      "Epoch 20/100\n",
      " - 0s - loss: 0.5008 - acc: 0.9183\n",
      "Epoch 21/100\n",
      " - 0s - loss: 0.5007 - acc: 0.9183\n",
      "Epoch 22/100\n",
      " - 0s - loss: 0.5007 - acc: 0.9183\n",
      "Epoch 23/100\n",
      " - 0s - loss: 0.5007 - acc: 0.9183\n",
      "Epoch 24/100\n",
      " - 0s - loss: 0.5006 - acc: 0.9183\n",
      "Epoch 25/100\n",
      " - 0s - loss: 0.5006 - acc: 0.9183\n",
      "Epoch 26/100\n",
      " - 0s - loss: 0.5006 - acc: 0.9183\n",
      "Epoch 27/100\n",
      " - 0s - loss: 0.5006 - acc: 0.9183\n",
      "Epoch 28/100\n",
      " - 0s - loss: 0.5005 - acc: 0.9183\n",
      "Epoch 29/100\n",
      " - 0s - loss: 0.5005 - acc: 0.9183\n",
      "Epoch 30/100\n",
      " - 0s - loss: 0.5005 - acc: 0.9183\n",
      "Epoch 31/100\n",
      " - 0s - loss: 0.5005 - acc: 0.9183\n",
      "Epoch 32/100\n",
      " - 0s - loss: 0.5005 - acc: 0.9183\n",
      "Epoch 33/100\n",
      " - 0s - loss: 0.5005 - acc: 0.9183\n",
      "Epoch 34/100\n",
      " - 0s - loss: 0.5005 - acc: 0.9183\n",
      "Epoch 35/100\n",
      " - 0s - loss: 0.5004 - acc: 0.9183\n",
      "Epoch 36/100\n",
      " - 0s - loss: 0.5004 - acc: 0.9183\n",
      "Epoch 37/100\n",
      " - 0s - loss: 0.5004 - acc: 0.9183\n",
      "Epoch 38/100\n",
      " - 0s - loss: 0.5004 - acc: 0.9183\n",
      "Epoch 39/100\n",
      " - 0s - loss: 0.5004 - acc: 0.9183\n",
      "Epoch 40/100\n",
      " - 0s - loss: 0.5004 - acc: 0.9183\n",
      "Epoch 41/100\n",
      " - 0s - loss: 0.5004 - acc: 0.9183\n",
      "Epoch 42/100\n",
      " - 0s - loss: 0.5004 - acc: 0.9183\n",
      "Epoch 43/100\n",
      " - 0s - loss: 0.5004 - acc: 0.9183\n",
      "Epoch 44/100\n",
      " - 0s - loss: 0.5004 - acc: 0.9183\n",
      "Epoch 45/100\n",
      " - 0s - loss: 0.5003 - acc: 0.9183\n",
      "Epoch 46/100\n",
      " - 0s - loss: 0.5003 - acc: 0.9183\n",
      "Epoch 47/100\n",
      " - 0s - loss: 0.5003 - acc: 0.9163\n",
      "Epoch 48/100\n",
      " - 0s - loss: 0.5003 - acc: 0.9163\n",
      "Epoch 49/100\n",
      " - 0s - loss: 0.5003 - acc: 0.9163\n",
      "Epoch 50/100\n",
      " - 0s - loss: 0.5003 - acc: 0.9163\n",
      "Epoch 51/100\n",
      " - 0s - loss: 0.5003 - acc: 0.9163\n",
      "Epoch 52/100\n",
      " - 0s - loss: 0.5003 - acc: 0.9163\n",
      "Epoch 53/100\n",
      " - 0s - loss: 0.5003 - acc: 0.9163\n",
      "Epoch 54/100\n",
      " - 0s - loss: 0.5003 - acc: 0.9163\n",
      "Epoch 55/100\n",
      " - 0s - loss: 0.5003 - acc: 0.9163\n",
      "Epoch 56/100\n",
      " - 0s - loss: 0.5003 - acc: 0.9163\n",
      "Epoch 57/100\n",
      " - 0s - loss: 0.5003 - acc: 0.9163\n",
      "Epoch 58/100\n",
      " - 0s - loss: 0.5003 - acc: 0.9163\n",
      "Epoch 59/100\n",
      " - 0s - loss: 0.5003 - acc: 0.9163\n",
      "Epoch 60/100\n",
      " - 0s - loss: 0.5003 - acc: 0.9163\n",
      "Epoch 61/100\n",
      " - 0s - loss: 0.5003 - acc: 0.9163\n",
      "Epoch 62/100\n",
      " - 0s - loss: 0.5003 - acc: 0.9163\n",
      "Epoch 63/100\n",
      " - 0s - loss: 0.5002 - acc: 0.9163\n",
      "Epoch 64/100\n",
      " - 0s - loss: 0.5002 - acc: 0.9163\n",
      "Epoch 65/100\n",
      " - 0s - loss: 0.5002 - acc: 0.9163\n",
      "Epoch 66/100\n",
      " - 0s - loss: 0.5002 - acc: 0.9163\n",
      "Epoch 67/100\n",
      " - 0s - loss: 0.5002 - acc: 0.9163\n",
      "Epoch 68/100\n",
      " - 0s - loss: 0.5002 - acc: 0.9163\n",
      "Epoch 69/100\n",
      " - 0s - loss: 0.5002 - acc: 0.9163\n",
      "Epoch 70/100\n",
      " - 0s - loss: 0.5002 - acc: 0.9163\n",
      "Epoch 71/100\n",
      " - 0s - loss: 0.5002 - acc: 0.9163\n",
      "Epoch 72/100\n",
      " - 0s - loss: 0.5002 - acc: 0.9163\n",
      "Epoch 73/100\n",
      " - 0s - loss: 0.5002 - acc: 0.9163\n",
      "Epoch 74/100\n",
      " - 0s - loss: 0.5002 - acc: 0.9163\n",
      "Epoch 75/100\n",
      " - 0s - loss: 0.5002 - acc: 0.9163\n",
      "Epoch 76/100\n",
      " - 0s - loss: 0.5002 - acc: 0.9163\n",
      "Epoch 77/100\n",
      " - 0s - loss: 0.5002 - acc: 0.9163\n",
      "Epoch 78/100\n",
      " - 0s - loss: 0.5002 - acc: 0.9163\n",
      "Epoch 79/100\n",
      " - 0s - loss: 0.5002 - acc: 0.9163\n",
      "Epoch 80/100\n",
      " - 0s - loss: 0.5002 - acc: 0.9163\n",
      "Epoch 81/100\n",
      " - 0s - loss: 0.5002 - acc: 0.9163\n",
      "Epoch 82/100\n",
      " - 0s - loss: 0.5002 - acc: 0.9163\n",
      "Epoch 83/100\n",
      " - 0s - loss: 0.5002 - acc: 0.9163\n",
      "Epoch 84/100\n",
      " - 0s - loss: 0.5002 - acc: 0.9163\n",
      "Epoch 85/100\n",
      " - 0s - loss: 0.5002 - acc: 0.9163\n",
      "Epoch 86/100\n",
      " - 0s - loss: 0.5002 - acc: 0.9163\n",
      "Epoch 87/100\n",
      " - 0s - loss: 0.5002 - acc: 0.9163\n",
      "Epoch 88/100\n",
      " - 0s - loss: 0.5002 - acc: 0.9163\n",
      "Epoch 89/100\n",
      " - 0s - loss: 0.5002 - acc: 0.9163\n",
      "Epoch 90/100\n",
      " - 0s - loss: 0.5002 - acc: 0.9163\n",
      "Epoch 91/100\n",
      " - 0s - loss: 0.5002 - acc: 0.9163\n",
      "Epoch 92/100\n",
      " - 0s - loss: 0.5002 - acc: 0.9163\n",
      "Epoch 93/100\n",
      " - 0s - loss: 0.5002 - acc: 0.9163\n",
      "Epoch 94/100\n",
      " - 0s - loss: 0.5002 - acc: 0.9163\n",
      "Epoch 95/100\n",
      " - 0s - loss: 0.5002 - acc: 0.9163\n",
      "Epoch 96/100\n",
      " - 0s - loss: 0.5002 - acc: 0.9163\n",
      "Epoch 97/100\n",
      " - 0s - loss: 0.5002 - acc: 0.9163\n",
      "Epoch 98/100\n",
      " - 0s - loss: 0.5002 - acc: 0.9163\n",
      "Epoch 99/100\n",
      " - 0s - loss: 0.5002 - acc: 0.9163\n",
      "Epoch 100/100\n",
      " - 0s - loss: 0.5002 - acc: 0.9163\n"
     ]
    },
    {
     "data": {
      "text/plain": [
       "<keras.callbacks.History at 0x1fdec90fc18>"
      ]
     },
     "execution_count": 143,
     "metadata": {},
     "output_type": "execute_result"
    }
   ],
   "source": [
    "model.fit(\n",
    "    X_train_scaled,\n",
    "    y_train_categorical,\n",
    "    epochs=100,\n",
    "    shuffle=True,\n",
    "    verbose=2\n",
    ")"
   ]
  },
  {
   "cell_type": "code",
   "execution_count": 144,
   "metadata": {},
   "outputs": [
    {
     "name": "stdout",
     "output_type": "stream",
     "text": [
      "Loss: 0.5001779899059102, Accuracy: 0.9455252918287937\n"
     ]
    }
   ],
   "source": [
    "model_loss, model_accuracy = model.evaluate(\n",
    "    X_test_scaled, y_test_categorical, verbose=2)\n",
    "print(f\"Loss: {model_loss}, Accuracy: {model_accuracy}\")\n",
    "\n"
   ]
  },
  {
   "cell_type": "code",
   "execution_count": 145,
   "metadata": {},
   "outputs": [
    {
     "name": "stdout",
     "output_type": "stream",
     "text": [
      "[[243   4]\n",
      " [ 10   0]]\n",
      "[[469   7]\n",
      " [ 36   2]]\n",
      "              precision    recall  f1-score   support\n",
      "\n",
      "           0       0.96      0.98      0.97       247\n",
      "           1       0.00      0.00      0.00        10\n",
      "\n",
      "   micro avg       0.95      0.95      0.95       257\n",
      "   macro avg       0.48      0.49      0.49       257\n",
      "weighted avg       0.92      0.95      0.93       257\n",
      "\n",
      "              precision    recall  f1-score   support\n",
      "\n",
      "           0       0.93      0.99      0.96       476\n",
      "           1       0.22      0.05      0.09        38\n",
      "\n",
      "   micro avg       0.92      0.92      0.92       514\n",
      "   macro avg       0.58      0.52      0.52       514\n",
      "weighted avg       0.88      0.92      0.89       514\n",
      "\n"
     ]
    }
   ],
   "source": [
    "from sklearn.metrics import confusion_matrix\n",
    "y_pred_test = model.predict_classes(X_test_scaled)\n",
    "y_pred_train = model.predict_classes(X_train_scaled)\n",
    "\n",
    "from sklearn.metrics import confusion_matrix, classification_report\n",
    "\n",
    "test_cm = confusion_matrix(y_test, y_pred_test)\n",
    "train_cm = confusion_matrix(y_train, y_pred_train)\n",
    "print(test_cm)\n",
    "print(train_cm)\n",
    "\n",
    "test_cr = classification_report(y_test, y_pred_test)\n",
    "train_cr = classification_report(y_train, y_pred_train)\n",
    "print(test_cr)\n",
    "print(train_cr)"
   ]
  },
  {
   "cell_type": "code",
   "execution_count": null,
   "metadata": {},
   "outputs": [],
   "source": []
  }
 ],
 "metadata": {
  "kernelspec": {
   "display_name": "Python 3",
   "language": "python",
   "name": "python3"
  },
  "language_info": {
   "codemirror_mode": {
    "name": "ipython",
    "version": 3
   },
   "file_extension": ".py",
   "mimetype": "text/x-python",
   "name": "python",
   "nbconvert_exporter": "python",
   "pygments_lexer": "ipython3",
   "version": "3.7.1"
  }
 },
 "nbformat": 4,
 "nbformat_minor": 2
}
