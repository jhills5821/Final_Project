{
 "cells": [
  {
   "cell_type": "code",
   "execution_count": 82,
   "metadata": {},
   "outputs": [
    {
     "data": {
      "text/plain": [
       "ema(4)                     float64\n",
       "ema(10)                    float64\n",
       "macd                       float64\n",
       "macd 1st d                 float64\n",
       "high low span              float64\n",
       "high above ema             float64\n",
       "close above ema            float64\n",
       "close relative to high     float64\n",
       "volume change              float64\n",
       "volume relative to span    float64\n",
       "3 days ago                   int64\n",
       "2 days ago                   int64\n",
       "1 day ago                    int64\n",
       "close relative to low      float64\n",
       "open less than close         int64\n",
       "to buy                       int64\n",
       "dtype: object"
      ]
     },
     "execution_count": 82,
     "metadata": {},
     "output_type": "execute_result"
    }
   ],
   "source": [
    "import matplotlib.pyplot as plt\n",
    "import pandas as pd\n",
    "\n",
    "#import data\n",
    "price_data = pd.read_csv('Input Data/Day Data/day_data_csv.csv')\n",
    "price_data.dtypes"
   ]
  },
  {
   "cell_type": "code",
   "execution_count": 83,
   "metadata": {},
   "outputs": [],
   "source": [
    "#split into x and y \n",
    "X = price_data.drop(\"to buy\", axis=1)\n",
    "y = price_data[\"to buy\"]\n",
    "\n",
    "from sklearn.model_selection import train_test_split\n",
    "\n",
    "X_train, X_test, y_train, y_test = train_test_split(X, y, test_size=1/3, random_state=0)"
   ]
  },
  {
   "cell_type": "code",
   "execution_count": 84,
   "metadata": {},
   "outputs": [
    {
     "name": "stderr",
     "output_type": "stream",
     "text": [
      "C:\\anaconda\\Anaconda3\\lib\\site-packages\\sklearn\\preprocessing\\data.py:625: DataConversionWarning: Data with input dtype int64, float64 were all converted to float64 by StandardScaler.\n",
      "  return self.partial_fit(X, y)\n",
      "C:\\anaconda\\Anaconda3\\lib\\site-packages\\ipykernel_launcher.py:6: DataConversionWarning: Data with input dtype int64, float64 were all converted to float64 by StandardScaler.\n",
      "  \n",
      "C:\\anaconda\\Anaconda3\\lib\\site-packages\\ipykernel_launcher.py:7: DataConversionWarning: Data with input dtype int64, float64 were all converted to float64 by StandardScaler.\n",
      "  import sys\n"
     ]
    }
   ],
   "source": [
    "from sklearn.preprocessing import StandardScaler\n",
    "\n",
    "# Create a StandardScater model and fit it to the training data\n",
    "X_scaler = StandardScaler().fit(X_train)\n",
    "\n",
    "X_train_scaled = X_scaler.transform(X_train)\n",
    "X_test_scaled = X_scaler.transform(X_test)\n"
   ]
  },
  {
   "cell_type": "code",
   "execution_count": 87,
   "metadata": {},
   "outputs": [
    {
     "name": "stdout",
     "output_type": "stream",
     "text": [
      "Training Accuracy Score: 0.9260700389105059\n",
      "Testing Accuracy Score: 0.9610894941634242\n"
     ]
    }
   ],
   "source": [
    "from sklearn.ensemble import VotingClassifier\n",
    "from sklearn.neighbors import KNeighborsClassifier\n",
    "from sklearn.tree import DecisionTreeClassifier\n",
    "\n",
    "dtc = DecisionTreeClassifier(class_weight=\"balanced\", max_leaf_nodes = 10, max_depth = 50)\n",
    "knn = KNeighborsClassifier(n_neighbors=13)\n",
    "\n",
    "\n",
    "gbc = VotingClassifier(estimators=[('Decision Tree', dtc), ('Nearest Neighbors', knn )])\n",
    "\n",
    "gbc = gbc.fit(X_train, y_train)\n",
    "\n",
    "training_accur = gbc.score(X_train_scaled, y_train)\n",
    "testing_accur = gbc.score(X_test_scaled, y_test) \n",
    "\n",
    "print(f\"Training Accuracy Score: {training_accur}\")\n",
    "print(f\"Testing Accuracy Score: {testing_accur}\")\n"
   ]
  },
  {
   "cell_type": "code",
   "execution_count": 88,
   "metadata": {},
   "outputs": [
    {
     "ename": "AttributeError",
     "evalue": "'VotingClassifier' object has no attribute 'feature_importances_'",
     "output_type": "error",
     "traceback": [
      "\u001b[1;31m---------------------------------------------------------------------------\u001b[0m",
      "\u001b[1;31mAttributeError\u001b[0m                            Traceback (most recent call last)",
      "\u001b[1;32m<ipython-input-88-dd4258e2d2b3>\u001b[0m in \u001b[0;36m<module>\u001b[1;34m\u001b[0m\n\u001b[1;32m----> 1\u001b[1;33m \u001b[0mimportances\u001b[0m \u001b[1;33m=\u001b[0m \u001b[0mgbc\u001b[0m\u001b[1;33m.\u001b[0m\u001b[0mfeature_importances_\u001b[0m\u001b[1;33m\u001b[0m\u001b[1;33m\u001b[0m\u001b[0m\n\u001b[0m\u001b[0;32m      2\u001b[0m \u001b[0mfeature_names\u001b[0m \u001b[1;33m=\u001b[0m \u001b[1;33m[\u001b[0m\u001b[1;34m'ema (4)'\u001b[0m\u001b[1;33m,\u001b[0m\u001b[1;34m'high low span'\u001b[0m\u001b[1;33m,\u001b[0m\u001b[1;34m'high above ema'\u001b[0m\u001b[1;33m,\u001b[0m\u001b[1;34m'close above ema'\u001b[0m\u001b[1;33m,\u001b[0m\u001b[1;34m'close relative to high'\u001b[0m\u001b[1;33m,\u001b[0m\u001b[1;34m'volume change'\u001b[0m\u001b[1;33m,\u001b[0m\u001b[1;34m'volume relative to span'\u001b[0m\u001b[1;33m]\u001b[0m\u001b[1;33m\u001b[0m\u001b[1;33m\u001b[0m\u001b[0m\n\u001b[0;32m      3\u001b[0m \u001b[1;33m\u001b[0m\u001b[0m\n\u001b[0;32m      4\u001b[0m \u001b[0msorted\u001b[0m\u001b[1;33m(\u001b[0m\u001b[0mzip\u001b[0m\u001b[1;33m(\u001b[0m\u001b[0mgbc\u001b[0m\u001b[1;33m.\u001b[0m\u001b[0mfeature_importances_\u001b[0m\u001b[1;33m,\u001b[0m \u001b[0mfeature_names\u001b[0m\u001b[1;33m)\u001b[0m\u001b[1;33m,\u001b[0m \u001b[0mreverse\u001b[0m\u001b[1;33m=\u001b[0m\u001b[1;32mTrue\u001b[0m\u001b[1;33m)\u001b[0m\u001b[1;33m\u001b[0m\u001b[1;33m\u001b[0m\u001b[0m\n",
      "\u001b[1;31mAttributeError\u001b[0m: 'VotingClassifier' object has no attribute 'feature_importances_'"
     ]
    }
   ],
   "source": [
    "importances = gbc.feature_importances_\n",
    "feature_names = ['ema (4)','high low span','high above ema','close above ema','close relative to high','volume change','volume relative to span']\n",
    "\n",
    "sorted(zip(gbc.feature_importances_, feature_names), reverse=True)"
   ]
  },
  {
   "cell_type": "code",
   "execution_count": 89,
   "metadata": {},
   "outputs": [
    {
     "name": "stdout",
     "output_type": "stream",
     "text": [
      "[[247   0]\n",
      " [ 10   0]]\n",
      "[[476   0]\n",
      " [ 38   0]]\n"
     ]
    }
   ],
   "source": [
    "# Use our model to make predictions and generate confusion matrix\n",
    "y_test_predict = gbc.predict(X_test_scaled)\n",
    "y_train_predict = gbc.predict(X_train_scaled)\n",
    "\n",
    "#price_data[\"Prediction\"]=predict_all\n",
    "#price_data.to_csv('predicted_price_data.csv')\n",
    "\n",
    "from sklearn.metrics import confusion_matrix\n",
    "\n",
    "print(confusion_matrix(y_test, y_test_predict))\n",
    "print(confusion_matrix(y_train, y_train_predict))"
   ]
  },
  {
   "cell_type": "code",
   "execution_count": 90,
   "metadata": {},
   "outputs": [
    {
     "name": "stdout",
     "output_type": "stream",
     "text": [
      "Training Accuracy: 0.9260700389105059\n",
      "Testing Accuracy: 0.9610894941634242\n",
      "Training Mean Squared Error (MSE): 0.07392996108949416\n",
      "Testing Mean Squared Error (MSE): 0.038910505836575876\n"
     ]
    }
   ],
   "source": [
    "#Summary of model performance\n",
    "from sklearn.metrics import mean_squared_error, accuracy_score\n",
    "\n",
    "training_score = accuracy_score(y_train, y_train_predict)\n",
    "testing_score = accuracy_score(y_test, y_test_predict) \n",
    "\n",
    "print(f\"Training Accuracy: {training_score}\")\n",
    "print(f\"Testing Accuracy: {testing_score}\")\n",
    "\n",
    "training_mse = mean_squared_error(y_train, y_train_predict)\n",
    "testing_mse = mean_squared_error(y_test, y_test_predict)\n",
    "\n",
    "print(f\"Training Mean Squared Error (MSE): {training_mse}\")\n",
    "print(f\"Testing Mean Squared Error (MSE): {testing_mse}\")\n"
   ]
  },
  {
   "cell_type": "code",
   "execution_count": null,
   "metadata": {},
   "outputs": [],
   "source": []
  }
 ],
 "metadata": {
  "kernelspec": {
   "display_name": "Python 3",
   "language": "python",
   "name": "python3"
  },
  "language_info": {
   "codemirror_mode": {
    "name": "ipython",
    "version": 3
   },
   "file_extension": ".py",
   "mimetype": "text/x-python",
   "name": "python",
   "nbconvert_exporter": "python",
   "pygments_lexer": "ipython3",
   "version": "3.7.1"
  }
 },
 "nbformat": 4,
 "nbformat_minor": 2
}
