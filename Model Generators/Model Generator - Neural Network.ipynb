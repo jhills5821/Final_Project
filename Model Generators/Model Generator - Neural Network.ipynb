{
 "cells": [
  {
   "cell_type": "code",
   "execution_count": 2,
   "metadata": {},
   "outputs": [
    {
     "name": "stdout",
     "output_type": "stream",
     "text": [
      "Requirement already satisfied: numpy in c:\\anaconda\\anaconda3\\lib\\site-packages (1.16.4)\n"
     ]
    }
   ],
   "source": [
    "!pip install numpy"
   ]
  },
  {
   "cell_type": "code",
   "execution_count": 36,
   "metadata": {},
   "outputs": [
    {
     "data": {
      "text/plain": [
       "ema(4)                     float64\n",
       "high low span              float64\n",
       "high above ema             float64\n",
       "close above ema            float64\n",
       "close relative to high     float64\n",
       "volume change              float64\n",
       "volume relative to span    float64\n",
       "to buy                       int64\n",
       "dtype: object"
      ]
     },
     "execution_count": 36,
     "metadata": {},
     "output_type": "execute_result"
    }
   ],
   "source": [
    "import matplotlib.pyplot as plt\n",
    "import pandas as pd\n",
    "\n",
    "\n",
    "#import data\n",
    "price_data = pd.read_csv('Input Data/Day Data/day_data_csv.csv')\n",
    "price_data.dtypes"
   ]
  },
  {
   "cell_type": "code",
   "execution_count": 37,
   "metadata": {},
   "outputs": [],
   "source": [
    "#split into x and y \n",
    "X = price_data.drop(\"to buy\", axis=1)\n",
    "y = price_data[\"to buy\"]\n",
    "\n",
    "from sklearn.model_selection import train_test_split\n",
    "\n",
    "X_train, X_test, y_train, y_test = train_test_split(X,y, test_size=1/3, random_state=0)"
   ]
  },
  {
   "cell_type": "code",
   "execution_count": 38,
   "metadata": {},
   "outputs": [],
   "source": [
    "from sklearn.preprocessing import StandardScaler\n",
    "\n",
    "# Create a StandardScater model and fit it to the training data\n",
    "X_scaler = StandardScaler().fit(X_train)\n",
    "\n",
    "X_train_scaled = X_scaler.transform(X_train)\n",
    "X_test_scaled = X_scaler.transform(X_test)"
   ]
  },
  {
   "cell_type": "code",
   "execution_count": 39,
   "metadata": {},
   "outputs": [],
   "source": [
    "from keras.utils import to_categorical\n",
    "\n",
    "# One-hot encoding\n",
    "y_train_categorical = to_categorical(y_train)\n",
    "y_test_categorical = to_categorical(y_test)"
   ]
  },
  {
   "cell_type": "code",
   "execution_count": 43,
   "metadata": {},
   "outputs": [
    {
     "name": "stdout",
     "output_type": "stream",
     "text": [
      "_________________________________________________________________\n",
      "Layer (type)                 Output Shape              Param #   \n",
      "=================================================================\n",
      "dense_17 (Dense)             (None, 8)                 64        \n",
      "_________________________________________________________________\n",
      "dense_18 (Dense)             (None, 50)                450       \n",
      "=================================================================\n",
      "Total params: 514\n",
      "Trainable params: 514\n",
      "Non-trainable params: 0\n",
      "_________________________________________________________________\n"
     ]
    }
   ],
   "source": [
    "from keras.models import Sequential\n",
    "\n",
    "model = Sequential()\n",
    "\n",
    "from keras.layers import Dense\n",
    "number_inputs = 7\n",
    "number_hidden_nodes = 8\n",
    "model.add(Dense(units=number_hidden_nodes,\n",
    "                activation='relu', input_dim=number_inputs))\n",
    "\n",
    "number_classes = 50\n",
    "model.add(Dense(units=number_classes, activation='softmax'))\n",
    "\n",
    "model.summary()\n",
    "\n",
    "model.compile(optimizer='adam',\n",
    "              loss='categorical_crossentropy',\n",
    "              metrics=['accuracy'])"
   ]
  },
  {
   "cell_type": "code",
   "execution_count": 44,
   "metadata": {},
   "outputs": [
    {
     "name": "stdout",
     "output_type": "stream",
     "text": [
      "Epoch 1/100\n",
      " - 1s - loss: 3.6367 - acc: 0.0770\n",
      "Epoch 2/100\n",
      " - 0s - loss: 3.2170 - acc: 0.0847\n",
      "Epoch 3/100\n",
      " - 0s - loss: 3.1339 - acc: 0.0841\n",
      "Epoch 4/100\n",
      " - 0s - loss: 3.1096 - acc: 0.0854\n",
      "Epoch 5/100\n",
      " - 0s - loss: 3.0980 - acc: 0.0866\n",
      "Epoch 6/100\n",
      " - 0s - loss: 3.0909 - acc: 0.0857\n",
      "Epoch 7/100\n",
      " - 0s - loss: 3.0864 - acc: 0.0876\n",
      "Epoch 8/100\n",
      " - 0s - loss: 3.0840 - acc: 0.0852\n",
      "Epoch 9/100\n",
      " - 0s - loss: 3.0824 - acc: 0.0876\n",
      "Epoch 10/100\n",
      " - 0s - loss: 3.0810 - acc: 0.0854\n",
      "Epoch 11/100\n",
      " - 0s - loss: 3.0800 - acc: 0.0851\n",
      "Epoch 12/100\n",
      " - 0s - loss: 3.0792 - acc: 0.0873\n",
      "Epoch 13/100\n",
      " - 0s - loss: 3.0785 - acc: 0.0865\n",
      "Epoch 14/100\n",
      " - 0s - loss: 3.0779 - acc: 0.0858\n",
      "Epoch 15/100\n",
      " - 0s - loss: 3.0775 - acc: 0.0865\n",
      "Epoch 16/100\n",
      " - 0s - loss: 3.0767 - acc: 0.0883\n",
      "Epoch 17/100\n",
      " - 0s - loss: 3.0768 - acc: 0.0869\n",
      "Epoch 18/100\n",
      " - 0s - loss: 3.0761 - acc: 0.0898\n",
      "Epoch 19/100\n",
      " - 0s - loss: 3.0759 - acc: 0.0857\n",
      "Epoch 20/100\n",
      " - 0s - loss: 3.0754 - acc: 0.0866\n",
      "Epoch 21/100\n",
      " - 0s - loss: 3.0753 - acc: 0.0893\n",
      "Epoch 22/100\n",
      " - 0s - loss: 3.0750 - acc: 0.0860\n",
      "Epoch 23/100\n",
      " - 0s - loss: 3.0749 - acc: 0.0870\n",
      "Epoch 24/100\n",
      " - 0s - loss: 3.0745 - acc: 0.0856\n",
      "Epoch 25/100\n",
      " - 0s - loss: 3.0742 - acc: 0.0849\n",
      "Epoch 26/100\n",
      " - 0s - loss: 3.0740 - acc: 0.0882\n",
      "Epoch 27/100\n",
      " - 0s - loss: 3.0739 - acc: 0.0889\n",
      "Epoch 28/100\n",
      " - 0s - loss: 3.0736 - acc: 0.0856\n",
      "Epoch 29/100\n",
      " - 0s - loss: 3.0732 - acc: 0.0882\n",
      "Epoch 30/100\n",
      " - 0s - loss: 3.0732 - acc: 0.0871\n",
      "Epoch 31/100\n",
      " - 0s - loss: 3.0732 - acc: 0.0861\n",
      "Epoch 32/100\n",
      " - 0s - loss: 3.0730 - acc: 0.0881\n",
      "Epoch 33/100\n",
      " - 0s - loss: 3.0725 - acc: 0.0885\n",
      "Epoch 34/100\n",
      " - 0s - loss: 3.0725 - acc: 0.0860\n",
      "Epoch 35/100\n",
      " - 0s - loss: 3.0724 - acc: 0.0877\n",
      "Epoch 36/100\n",
      " - 0s - loss: 3.0723 - acc: 0.0903\n",
      "Epoch 37/100\n",
      " - 0s - loss: 3.0719 - acc: 0.0899\n",
      "Epoch 38/100\n",
      " - 0s - loss: 3.0718 - acc: 0.0875\n",
      "Epoch 39/100\n",
      " - 0s - loss: 3.0717 - acc: 0.0854\n",
      "Epoch 40/100\n",
      " - 0s - loss: 3.0716 - acc: 0.0893\n",
      "Epoch 41/100\n",
      " - 0s - loss: 3.0714 - acc: 0.0861\n",
      "Epoch 42/100\n",
      " - 0s - loss: 3.0716 - acc: 0.0858\n",
      "Epoch 43/100\n",
      " - 0s - loss: 3.0711 - acc: 0.0868\n",
      "Epoch 44/100\n",
      " - 0s - loss: 3.0713 - acc: 0.0863\n",
      "Epoch 45/100\n",
      " - 0s - loss: 3.0706 - acc: 0.0864\n",
      "Epoch 46/100\n",
      " - 0s - loss: 3.0710 - acc: 0.0869\n",
      "Epoch 47/100\n",
      " - 0s - loss: 3.0708 - acc: 0.0861\n",
      "Epoch 48/100\n",
      " - 0s - loss: 3.0704 - acc: 0.0899\n",
      "Epoch 49/100\n",
      " - 0s - loss: 3.0705 - acc: 0.0851\n",
      "Epoch 50/100\n",
      " - 0s - loss: 3.0701 - acc: 0.0882\n",
      "Epoch 51/100\n",
      " - 0s - loss: 3.0702 - acc: 0.0859\n",
      "Epoch 52/100\n",
      " - 0s - loss: 3.0698 - acc: 0.0850\n",
      "Epoch 53/100\n",
      " - 0s - loss: 3.0697 - acc: 0.0873\n",
      "Epoch 54/100\n",
      " - 0s - loss: 3.0701 - acc: 0.0895\n",
      "Epoch 55/100\n",
      " - 0s - loss: 3.0696 - acc: 0.0905\n",
      "Epoch 56/100\n",
      " - 0s - loss: 3.0696 - acc: 0.0866\n",
      "Epoch 57/100\n",
      " - 0s - loss: 3.0692 - acc: 0.0871\n",
      "Epoch 58/100\n",
      " - 0s - loss: 3.0695 - acc: 0.0900\n",
      "Epoch 59/100\n",
      " - 0s - loss: 3.0694 - acc: 0.0868\n",
      "Epoch 60/100\n",
      " - 0s - loss: 3.0692 - acc: 0.0884\n",
      "Epoch 61/100\n",
      " - 0s - loss: 3.0691 - acc: 0.0906\n",
      "Epoch 62/100\n",
      " - 0s - loss: 3.0692 - acc: 0.0879\n",
      "Epoch 63/100\n",
      " - 0s - loss: 3.0688 - acc: 0.0906\n",
      "Epoch 64/100\n",
      " - 0s - loss: 3.0687 - acc: 0.0883\n",
      "Epoch 65/100\n",
      " - 0s - loss: 3.0687 - acc: 0.0894\n",
      "Epoch 66/100\n",
      " - 0s - loss: 3.0683 - acc: 0.0882\n",
      "Epoch 67/100\n",
      " - 0s - loss: 3.0684 - acc: 0.0870\n",
      "Epoch 68/100\n",
      " - 0s - loss: 3.0685 - acc: 0.0900\n",
      "Epoch 69/100\n",
      " - 0s - loss: 3.0683 - acc: 0.0883\n",
      "Epoch 70/100\n",
      " - 0s - loss: 3.0683 - acc: 0.0905\n",
      "Epoch 71/100\n",
      " - 0s - loss: 3.0681 - acc: 0.0863\n",
      "Epoch 72/100\n",
      " - 0s - loss: 3.0683 - acc: 0.0897\n",
      "Epoch 73/100\n",
      " - 0s - loss: 3.0681 - acc: 0.0877\n",
      "Epoch 74/100\n",
      " - 0s - loss: 3.0679 - acc: 0.0889\n",
      "Epoch 75/100\n",
      " - 0s - loss: 3.0678 - acc: 0.0886\n",
      "Epoch 76/100\n",
      " - 0s - loss: 3.0677 - acc: 0.0872\n",
      "Epoch 77/100\n",
      " - 0s - loss: 3.0675 - acc: 0.0863\n",
      "Epoch 78/100\n",
      " - 0s - loss: 3.0675 - acc: 0.0881\n",
      "Epoch 79/100\n",
      " - 0s - loss: 3.0676 - acc: 0.0914\n",
      "Epoch 80/100\n",
      " - 0s - loss: 3.0673 - acc: 0.0882\n",
      "Epoch 81/100\n",
      " - 0s - loss: 3.0675 - acc: 0.0891\n",
      "Epoch 82/100\n",
      " - 0s - loss: 3.0674 - acc: 0.0873\n",
      "Epoch 83/100\n",
      " - 0s - loss: 3.0672 - acc: 0.0879\n",
      "Epoch 84/100\n",
      " - 0s - loss: 3.0668 - acc: 0.0897\n",
      "Epoch 85/100\n",
      " - 0s - loss: 3.0670 - acc: 0.0902\n",
      "Epoch 86/100\n",
      " - 0s - loss: 3.0671 - acc: 0.0880\n",
      "Epoch 87/100\n",
      " - 0s - loss: 3.0671 - acc: 0.0895\n",
      "Epoch 88/100\n",
      " - 0s - loss: 3.0671 - acc: 0.0897\n",
      "Epoch 89/100\n",
      " - 0s - loss: 3.0666 - acc: 0.0910\n",
      "Epoch 90/100\n",
      " - 0s - loss: 3.0668 - acc: 0.0879\n",
      "Epoch 91/100\n",
      " - 0s - loss: 3.0666 - acc: 0.0905\n",
      "Epoch 92/100\n",
      " - 0s - loss: 3.0667 - acc: 0.0859\n",
      "Epoch 93/100\n",
      " - 0s - loss: 3.0669 - acc: 0.0878\n",
      "Epoch 94/100\n",
      " - 0s - loss: 3.0663 - acc: 0.0900\n",
      "Epoch 95/100\n",
      " - 0s - loss: 3.0666 - acc: 0.0870\n",
      "Epoch 96/100\n",
      " - 0s - loss: 3.0665 - acc: 0.0899\n",
      "Epoch 97/100\n",
      " - 0s - loss: 3.0663 - acc: 0.0898\n",
      "Epoch 98/100\n",
      " - 0s - loss: 3.0662 - acc: 0.0871\n",
      "Epoch 99/100\n",
      " - 0s - loss: 3.0662 - acc: 0.0871\n",
      "Epoch 100/100\n",
      " - 0s - loss: 3.0660 - acc: 0.0897\n"
     ]
    },
    {
     "data": {
      "text/plain": [
       "<keras.callbacks.History at 0x1fddc9ba588>"
      ]
     },
     "execution_count": 44,
     "metadata": {},
     "output_type": "execute_result"
    }
   ],
   "source": [
    "model.fit(\n",
    "    X_train_scaled,\n",
    "    y_train_categorical,\n",
    "    epochs=100,\n",
    "    shuffle=True,\n",
    "    verbose=2\n",
    ")"
   ]
  },
  {
   "cell_type": "code",
   "execution_count": 45,
   "metadata": {},
   "outputs": [
    {
     "name": "stdout",
     "output_type": "stream",
     "text": [
      "Loss: 3.1043078876389587, Accuracy: 0.08278079164229964\n"
     ]
    }
   ],
   "source": [
    "model_loss, model_accuracy = model.evaluate(\n",
    "    X_test_scaled, y_test_categorical, verbose=2)\n",
    "print(f\"Loss: {model_loss}, Accuracy: {model_accuracy}\")\n",
    "\n"
   ]
  },
  {
   "cell_type": "code",
   "execution_count": 46,
   "metadata": {},
   "outputs": [
    {
     "name": "stdout",
     "output_type": "stream",
     "text": [
      "[[149 102  20 ...   0   0   0]\n",
      " [154 123  21 ...   0   0   0]\n",
      " [159 117  25 ...   0   0   0]\n",
      " ...\n",
      " [  0   0   0 ...   0   0   0]\n",
      " [  0   0   0 ...   0   0   0]\n",
      " [  0   0   0 ...   0   0   0]]\n"
     ]
    }
   ],
   "source": [
    "from sklearn.metrics import confusion_matrix\n",
    "y_pred = model.predict_classes(X_test_scaled)\n",
    "\n",
    "matrix = confusion_matrix(y_test, y_pred)\n",
    "print(matrix)"
   ]
  },
  {
   "cell_type": "code",
   "execution_count": null,
   "metadata": {},
   "outputs": [],
   "source": []
  }
 ],
 "metadata": {
  "kernelspec": {
   "display_name": "Python 3",
   "language": "python",
   "name": "python3"
  },
  "language_info": {
   "codemirror_mode": {
    "name": "ipython",
    "version": 3
   },
   "file_extension": ".py",
   "mimetype": "text/x-python",
   "name": "python",
   "nbconvert_exporter": "python",
   "pygments_lexer": "ipython3",
   "version": "3.7.1"
  }
 },
 "nbformat": 4,
 "nbformat_minor": 2
}
